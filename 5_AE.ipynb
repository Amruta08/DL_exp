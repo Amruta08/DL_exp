{
  "cells": [
    {
      "cell_type": "code",
      "execution_count": 12,
      "metadata": {
        "colab": {
          "base_uri": "https://localhost:8080/"
        },
        "id": "a-CClZcUdNPn",
        "outputId": "2d1adf1d-1d16-49bb-a3cf-b382eb4c0226"
      },
      "outputs": [
        {
          "output_type": "stream",
          "name": "stdout",
          "text": [
            "(60000, 28, 28)\n",
            "(10000, 28, 28)\n"
          ]
        }
      ],
      "source": [
        "from keras.datasets import mnist\n",
        "import numpy as np\n",
        "(train_images,__),(test_images,_)=mnist.load_data()\n",
        "print(train_images.shape)\n",
        "print(test_images.shape)"
      ]
    },
    {
      "cell_type": "code",
      "execution_count": 13,
      "metadata": {
        "colab": {
          "base_uri": "https://localhost:8080/",
          "height": 430
        },
        "id": "9CoZfx7qebEo",
        "outputId": "625afe20-e5b6-49cf-95a8-c2eb1dbc952a"
      },
      "outputs": [
        {
          "output_type": "display_data",
          "data": {
            "text/plain": [
              "<Figure size 640x480 with 1 Axes>"
            ],
            "image/png": "[encoded data removed]"
          },
          "metadata": {}
        }
      ],
      "source": [
        "import matplotlib.pyplot as plt\n",
        "plt.imshow(test_images[0].reshape(28,28))\n",
        "plt.gray()"
      ]
    },
    {
      "cell_type": "code",
      "source": [
        "train_images=train_images.astype('float32')/255.\n",
        "test_images=test_images.astype('float32')/255."
      ],
      "metadata": {
        "id": "2XVnRj4u7TZX"
      },
      "execution_count": 14,
      "outputs": []
    },
    {
      "cell_type": "code",
      "execution_count": 19,
      "metadata": {
        "colab": {
          "base_uri": "https://localhost:8080/"
        },
        "id": "b3c4-P_UevlT",
        "outputId": "28fef297-b65b-4e2f-c55d-546d24b34109"
      },
      "outputs": [
        {
          "output_type": "stream",
          "name": "stdout",
          "text": [
            "(60000, 784)\n",
            "(60000, 784)\n"
          ]
        }
      ],
      "source": [
        "train_images=train_images.reshape((len(train_images),np.prod(train_images.shape[1:])))\n",
        "test_images=test_images.reshape((len(test_images),np.prod(test_images.shape[1:])))\n",
        "print(train_images.shape)\n",
        "print(train_images.shape)"
      ]
    },
    {
      "cell_type": "code",
      "execution_count": 20,
      "metadata": {
        "colab": {
          "base_uri": "https://localhost:8080/"
        },
        "id": "gJHE4ctVfedn",
        "outputId": "145737e4-7710-451f-fc50-9a47627481d5"
      },
      "outputs": [
        {
          "output_type": "stream",
          "name": "stdout",
          "text": [
            "Model: \"model_6\"\n",
            "_________________________________________________________________\n",
            " Layer (type)                Output Shape              Param #   \n",
            "=================================================================\n",
            " input_5 (InputLayer)        [(None, 784)]             0         \n",
            "                                                                 \n",
            " dense_4 (Dense)             (None, 32)                25120     \n",
            "                                                                 \n",
            " dense_5 (Dense)             (None, 784)               25872     \n",
            "                                                                 \n",
            "=================================================================\n",
            "Total params: 50992 (199.19 KB)\n",
            "Trainable params: 50992 (199.19 KB)\n",
            "Non-trainable params: 0 (0.00 Byte)\n",
            "_________________________________________________________________\n"
          ]
        }
      ],
      "source": [
        "from keras.layers import Input,Dense\n",
        "from keras.models import Model\n",
        "encoding_dim=32\n",
        "input_layer=Input(shape=(784,))\n",
        "encoder_layer1=Dense(encoding_dim,activation='relu')(input_layer)\n",
        "decoder_layer1=Dense(784,activation='sigmoid')(encoder_layer1)\n",
        "autoencoder=Model(input_layer,decoder_layer1)\n",
        "autoencoder.summary()"
      ]
    },
    {
      "cell_type": "code",
      "execution_count": 21,
      "metadata": {
        "id": "CEnnGfDAgUs7"
      },
      "outputs": [],
      "source": [
        "encoder=Model(input_layer,encoder_layer1)\n",
        "\n",
        "encoded_input=Input(shape=(encoding_dim,))\n",
        "decoder_layer=autoencoder.layers[-1]\n",
        "decoder=Model(encoded_input,decoder_layer(encoded_input))"
      ]
    },
    {
      "cell_type": "code",
      "execution_count": 22,
      "metadata": {
        "id": "T-rfw60Qg3qY"
      },
      "outputs": [],
      "source": [
        "autoencoder.compile(optimizer='adam',loss='binary_crossentropy')"
      ]
    },
    {
      "cell_type": "code",
      "execution_count": 23,
      "metadata": {
        "colab": {
          "base_uri": "https://localhost:8080/"
        },
        "id": "lmZp44l7hE72",
        "outputId": "2d09cfd0-4eb2-486d-d703-5301faeb5d80"
      },
      "outputs": [
        {
          "output_type": "stream",
          "name": "stdout",
          "text": [
            "Epoch 1/60\n",
            "235/235 [==============================] - 3s 12ms/step - loss: 0.2776 - val_loss: 0.1924\n",
            "Epoch 2/60\n",
            "235/235 [==============================] - 3s 13ms/step - loss: 0.1722 - val_loss: 0.1537\n",
            "Epoch 3/60\n",
            "235/235 [==============================] - 3s 13ms/step - loss: 0.1443 - val_loss: 0.1337\n",
            "Epoch 4/60\n",
            "235/235 [==============================] - 2s 11ms/step - loss: 0.1287 - val_loss: 0.1215\n",
            "Epoch 5/60\n",
            "235/235 [==============================] - 3s 11ms/step - loss: 0.1183 - val_loss: 0.1129\n",
            "Epoch 6/60\n",
            "235/235 [==============================] - 2s 10ms/step - loss: 0.1113 - val_loss: 0.1071\n",
            "Epoch 7/60\n",
            "235/235 [==============================] - 3s 14ms/step - loss: 0.1063 - val_loss: 0.1029\n",
            "Epoch 8/60\n",
            "235/235 [==============================] - 3s 11ms/step - loss: 0.1026 - val_loss: 0.0998\n",
            "Epoch 9/60\n",
            "235/235 [==============================] - 3s 11ms/step - loss: 0.1000 - val_loss: 0.0977\n",
            "Epoch 10/60\n",
            "235/235 [==============================] - 3s 11ms/step - loss: 0.0981 - val_loss: 0.0960\n",
            "Epoch 11/60\n",
            "235/235 [==============================] - 2s 11ms/step - loss: 0.0967 - val_loss: 0.0949\n",
            "Epoch 12/60\n",
            "235/235 [==============================] - 3s 14ms/step - loss: 0.0958 - val_loss: 0.0943\n",
            "Epoch 13/60\n",
            "235/235 [==============================] - 3s 11ms/step - loss: 0.0952 - val_loss: 0.0937\n",
            "Epoch 14/60\n",
            "235/235 [==============================] - 2s 11ms/step - loss: 0.0948 - val_loss: 0.0934\n",
            "Epoch 15/60\n",
            "235/235 [==============================] - 3s 11ms/step - loss: 0.0945 - val_loss: 0.0932\n",
            "Epoch 16/60\n",
            "235/235 [==============================] - 3s 14ms/step - loss: 0.0943 - val_loss: 0.0930\n",
            "Epoch 17/60\n",
            "235/235 [==============================] - 3s 13ms/step - loss: 0.0941 - val_loss: 0.0928\n",
            "Epoch 18/60\n",
            "235/235 [==============================] - 3s 11ms/step - loss: 0.0939 - val_loss: 0.0928\n",
            "Epoch 19/60\n",
            "235/235 [==============================] - 2s 10ms/step - loss: 0.0938 - val_loss: 0.0927\n",
            "Epoch 20/60\n",
            "235/235 [==============================] - 3s 11ms/step - loss: 0.0937 - val_loss: 0.0925\n",
            "Epoch 21/60\n",
            "235/235 [==============================] - 3s 14ms/step - loss: 0.0936 - val_loss: 0.0925\n",
            "Epoch 22/60\n",
            "235/235 [==============================] - 2s 10ms/step - loss: 0.0935 - val_loss: 0.0923\n",
            "Epoch 23/60\n",
            "235/235 [==============================] - 2s 11ms/step - loss: 0.0935 - val_loss: 0.0924\n",
            "Epoch 24/60\n",
            "235/235 [==============================] - 2s 10ms/step - loss: 0.0934 - val_loss: 0.0923\n",
            "Epoch 25/60\n",
            "235/235 [==============================] - 3s 12ms/step - loss: 0.0934 - val_loss: 0.0922\n",
            "Epoch 26/60\n",
            "235/235 [==============================] - 3s 13ms/step - loss: 0.0933 - val_loss: 0.0922\n",
            "Epoch 27/60\n",
            "235/235 [==============================] - 3s 11ms/step - loss: 0.0933 - val_loss: 0.0921\n",
            "Epoch 28/60\n",
            "235/235 [==============================] - 3s 11ms/step - loss: 0.0932 - val_loss: 0.0921\n",
            "Epoch 29/60\n",
            "235/235 [==============================] - 2s 10ms/step - loss: 0.0932 - val_loss: 0.0921\n",
            "Epoch 30/60\n",
            "235/235 [==============================] - 3s 14ms/step - loss: 0.0932 - val_loss: 0.0921\n",
            "Epoch 31/60\n",
            "235/235 [==============================] - 2s 10ms/step - loss: 0.0931 - val_loss: 0.0920\n",
            "Epoch 32/60\n",
            "235/235 [==============================] - 2s 10ms/step - loss: 0.0931 - val_loss: 0.0920\n",
            "Epoch 33/60\n",
            "235/235 [==============================] - 4s 15ms/step - loss: 0.0930 - val_loss: 0.0919\n",
            "Epoch 34/60\n",
            "235/235 [==============================] - 3s 12ms/step - loss: 0.0930 - val_loss: 0.0919\n",
            "Epoch 35/60\n",
            "235/235 [==============================] - 3s 12ms/step - loss: 0.0930 - val_loss: 0.0919\n",
            "Epoch 36/60\n",
            "235/235 [==============================] - 2s 10ms/step - loss: 0.0930 - val_loss: 0.0919\n",
            "Epoch 37/60\n",
            "235/235 [==============================] - 2s 10ms/step - loss: 0.0930 - val_loss: 0.0919\n",
            "Epoch 38/60\n",
            "235/235 [==============================] - 2s 10ms/step - loss: 0.0929 - val_loss: 0.0919\n",
            "Epoch 39/60\n",
            "235/235 [==============================] - 3s 13ms/step - loss: 0.0929 - val_loss: 0.0918\n",
            "Epoch 40/60\n",
            "235/235 [==============================] - 3s 11ms/step - loss: 0.0929 - val_loss: 0.0918\n",
            "Epoch 41/60\n",
            "235/235 [==============================] - 3s 11ms/step - loss: 0.0929 - val_loss: 0.0918\n",
            "Epoch 42/60\n",
            "235/235 [==============================] - 2s 10ms/step - loss: 0.0929 - val_loss: 0.0918\n",
            "Epoch 43/60\n",
            "235/235 [==============================] - 2s 10ms/step - loss: 0.0928 - val_loss: 0.0918\n",
            "Epoch 44/60\n",
            "235/235 [==============================] - 3s 14ms/step - loss: 0.0928 - val_loss: 0.0918\n",
            "Epoch 45/60\n",
            "235/235 [==============================] - 2s 10ms/step - loss: 0.0928 - val_loss: 0.0918\n",
            "Epoch 46/60\n",
            "235/235 [==============================] - 2s 11ms/step - loss: 0.0928 - val_loss: 0.0917\n",
            "Epoch 47/60\n",
            "235/235 [==============================] - 5s 20ms/step - loss: 0.0928 - val_loss: 0.0918\n",
            "Epoch 48/60\n",
            "235/235 [==============================] - 4s 17ms/step - loss: 0.0928 - val_loss: 0.0917\n",
            "Epoch 49/60\n",
            "235/235 [==============================] - 5s 21ms/step - loss: 0.0927 - val_loss: 0.0917\n",
            "Epoch 50/60\n",
            "235/235 [==============================] - 3s 12ms/step - loss: 0.0927 - val_loss: 0.0917\n",
            "Epoch 51/60\n",
            "235/235 [==============================] - 3s 13ms/step - loss: 0.0927 - val_loss: 0.0917\n",
            "Epoch 52/60\n",
            "235/235 [==============================] - 3s 12ms/step - loss: 0.0927 - val_loss: 0.0917\n",
            "Epoch 53/60\n",
            "235/235 [==============================] - 2s 10ms/step - loss: 0.0927 - val_loss: 0.0916\n",
            "Epoch 54/60\n",
            "235/235 [==============================] - 3s 11ms/step - loss: 0.0927 - val_loss: 0.0917\n",
            "Epoch 55/60\n",
            "235/235 [==============================] - 2s 10ms/step - loss: 0.0927 - val_loss: 0.0917\n",
            "Epoch 56/60\n",
            "235/235 [==============================] - 3s 14ms/step - loss: 0.0927 - val_loss: 0.0917\n",
            "Epoch 57/60\n",
            "235/235 [==============================] - 3s 11ms/step - loss: 0.0927 - val_loss: 0.0916\n",
            "Epoch 58/60\n",
            "235/235 [==============================] - 3s 11ms/step - loss: 0.0927 - val_loss: 0.0917\n",
            "Epoch 59/60\n",
            "235/235 [==============================] - 3s 11ms/step - loss: 0.0926 - val_loss: 0.0916\n",
            "Epoch 60/60\n",
            "235/235 [==============================] - 3s 13ms/step - loss: 0.0927 - val_loss: 0.0917\n"
          ]
        },
        {
          "output_type": "execute_result",
          "data": {
            "text/plain": [
              "<keras.src.callbacks.History at 0x7cb02c0f0190>"
            ]
          },
          "metadata": {},
          "execution_count": 23
        }
      ],
      "source": [
        "\n",
        "autoencoder.fit(train_images,train_images,\n",
        "epochs=60,\n",
        "batch_size=256,\n",
        "shuffle=True,\n",
        "validation_data=(test_images,test_images))"
      ]
    },
    {
      "cell_type": "code",
      "source": [
        "encoded_imgs=encoder.predict(test_images)\n",
        "print(encoded_imgs.shape)"
      ],
      "metadata": {
        "colab": {
          "base_uri": "https://localhost:8080/"
        },
        "id": "8p-9jJYpWj3z",
        "outputId": "d8ba215a-9b84-4dee-cac1-d0289d5946b1"
      },
      "execution_count": 24,
      "outputs": [
        {
          "output_type": "stream",
          "name": "stdout",
          "text": [
            "313/313 [==============================] - 0s 1ms/step\n",
            "(10000, 32)\n"
          ]
        }
      ]
    },
    {
      "cell_type": "code",
      "source": [
        "decoded_imgs=decoder.predict(encoded_imgs)\n",
        "print(decoded_imgs.shape)"
      ],
      "metadata": {
        "colab": {
          "base_uri": "https://localhost:8080/"
        },
        "id": "Z6N2GkMuWkIZ",
        "outputId": "9505ba27-8978-4351-eb78-b4b0bbf6bde9"
      },
      "execution_count": 25,
      "outputs": [
        {
          "output_type": "stream",
          "name": "stdout",
          "text": [
            "313/313 [==============================] - 1s 2ms/step\n",
            "(10000, 784)\n"
          ]
        }
      ]
    },
    {
      "cell_type": "code",
      "source": [
        "import matplotlib.pyplot as plt\n",
        "\n",
        "n = 10  # How many digits we will display\n",
        "plt.figure(figsize=(20, 4))\n",
        "for i in range(n):\n",
        "    # Display original\n",
        "    ax = plt.subplot(2, n, i + 1)\n",
        "    plt.imshow(test_images[i].reshape(28, 28))\n",
        "    plt.gray()\n",
        "    ax.get_xaxis().set_visible(False)\n",
        "    ax.get_yaxis().set_visible(False)\n",
        "\n",
        "    # Display reconstruction\n",
        "    ax = plt.subplot(2, n, i + 1 + n)\n",
        "    plt.imshow(decoded_imgs[i].reshape(28, 28))\n",
        "    plt.gray()\n",
        "    ax.get_xaxis().set_visible(False)\n",
        "    ax.get_yaxis().set_visible(False)\n",
        "plt.show()"
      ],
      "metadata": {
        "colab": {
          "base_uri": "https://localhost:8080/",
          "height": 229
        },
        "id": "O-JUogkZXx0i",
        "outputId": "13392677-c0ea-49ce-e0a0-41f4b853d964"
      },
      "execution_count": 26,
      "outputs": [
        {
          "output_type": "display_data",
          "data": {
            "text/plain": [
              "<Figure size 2000x400 with 20 Axes>"
            ],
            "image/png": "[encoded data removed]"
          },
          "metadata": {}
        }
      ]
    }
  ],
  "metadata": {
    "colab": {
      "provenance": []
    },
    "kernelspec": {
      "display_name": "Python 3",
      "name": "python3"
    },
    "language_info": {
      "name": "python"
    }
  },
  "nbformat": 4,
  "nbformat_minor": 0
}