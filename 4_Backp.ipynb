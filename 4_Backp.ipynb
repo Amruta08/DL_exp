{
  "nbformat": 4,
  "nbformat_minor": 0,
  "metadata": {
    "colab": {
      "provenance": []
    },
    "kernelspec": {
      "name": "python3",
      "display_name": "Python 3"
    },
    "language_info": {
      "name": "python"
    }
  },
  "cells": [
    {
      "cell_type": "code",
      "execution_count": 7,
      "metadata": {
        "id": "Q8I5z4wMJOFJ"
      },
      "outputs": [],
      "source": [
        "import numpy as np\n",
        "import matplotlib.pyplot as plt\n",
        "import pandas as pd"
      ]
    },
    {
      "cell_type": "code",
      "source": [
        "#sigmoid function\n",
        "def nlinear(x,deriv=False):\n",
        "  if(deriv==True):\n",
        "    return x*(1-x)\n",
        "  return 1/(1+np.exp(-x))"
      ],
      "metadata": {
        "id": "B8bzMmdbJkkd"
      },
      "execution_count": 8,
      "outputs": []
    },
    {
      "cell_type": "code",
      "source": [
        "#input\n",
        "X=np.array([[1,1,0],[0,1,1],[0,0,1],[1,1,0]])\n",
        "#output\n",
        "y=np.array([[1,0,0,1]]).T\n",
        "#seed for random number distribution\n",
        "#np.random.seed(1)\n",
        "#wts initialization\n",
        "synapse0=2*np.random.random((3,1))-1"
      ],
      "metadata": {
        "id": "kluU6yrZKBdA"
      },
      "execution_count": 9,
      "outputs": []
    },
    {
      "cell_type": "code",
      "source": [
        "for i in range(1000):\n",
        "  #forward propagation\n",
        "  layer0=X\n",
        "  layer1=nlinear(np.dot(layer0,synapse0))\n",
        "  #error\n",
        "  layer1_error=y-layer1\n",
        "  #multiply with error backpropagated\n",
        "  layer1_delta=layer1_error*nlinear(layer1,True)\n",
        "  #update wts\n",
        "  synapse0+=np.dot(layer0.T,layer1_delta)"
      ],
      "metadata": {
        "id": "6mUoKl-IK-UP"
      },
      "execution_count": 10,
      "outputs": []
    },
    {
      "cell_type": "code",
      "source": [
        "print(\"op:\")\n",
        "print(layer1)\n",
        "print(\"ao:\")\n",
        "print(y)"
      ],
      "metadata": {
        "colab": {
          "base_uri": "https://localhost:8080/"
        },
        "id": "LSc9n9hqLevZ",
        "outputId": "3c563911-cb60-4497-f33a-cb60f36e49fc"
      },
      "execution_count": 11,
      "outputs": [
        {
          "output_type": "stream",
          "name": "stdout",
          "text": [
            "op:\n",
            "[[0.98439037]\n",
            " [0.0212088 ]\n",
            " [0.01099151]\n",
            " [0.98439037]]\n",
            "ao:\n",
            "[[1]\n",
            " [0]\n",
            " [0]\n",
            " [1]]\n"
          ]
        }
      ]
    },
    {
      "cell_type": "code",
      "source": [
        "df=[y,layer1]\n",
        "df"
      ],
      "metadata": {
        "colab": {
          "base_uri": "https://localhost:8080/"
        },
        "id": "LNEX1GrTLyyi",
        "outputId": "e4a3ff91-f575-4cd2-81a8-109ed876171a"
      },
      "execution_count": null,
      "outputs": [
        {
          "output_type": "execute_result",
          "data": {
            "text/plain": [
              "[array([[0],\n",
              "        [0],\n",
              "        [1],\n",
              "        [1]]),\n",
              " array([[0.02036885],\n",
              "        [0.02020061],\n",
              "        [0.97369283],\n",
              "        [0.5       ]])]"
            ]
          },
          "metadata": {},
          "execution_count": 22
        }
      ]
    },
    {
      "cell_type": "code",
      "source": [
        "plt.plot(y,layer1)"
      ],
      "metadata": {
        "colab": {
          "base_uri": "https://localhost:8080/",
          "height": 448
        },
        "id": "bh2po8pKL3Rl",
        "outputId": "0c676dde-da00-4d50-ac4d-fccec20229f0"
      },
      "execution_count": null,
      "outputs": [
        {
          "output_type": "execute_result",
          "data": {
            "text/plain": [
              "[<matplotlib.lines.Line2D at 0x7b0b695b0dc0>]"
            ]
          },
          "metadata": {},
          "execution_count": 10
        },
        {
          "output_type": "display_data",
          "data": {
            "text/plain": [
              "<Figure size 640x480 with 1 Axes>"
            ],
            "image/png": "[encoded data removed]"
          },
          "metadata": {}
        }
      ]
    }
  ]
}